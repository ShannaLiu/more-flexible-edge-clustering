{
 "cells": [
  {
   "cell_type": "code",
   "execution_count": 1,
   "metadata": {},
   "outputs": [],
   "source": [
    "import torch\n",
    "from torch_geometric.nn import GCNConv\n",
    "from torch.nn import Linear\n",
    "from torch_geometric.nn import global_mean_pool\n",
    "import torch.nn.functional as F\n",
    "from torch_geometric.datasets import TUDataset\n",
    "from pool_class import *\n"
   ]
  },
  {
   "cell_type": "code",
   "execution_count": 11,
   "metadata": {},
   "outputs": [
    {
     "data": {
      "text/plain": [
       "Data(edge_index=[2, 38], x=[17, 7], edge_attr=[38, 4], y=[1])"
      ]
     },
     "execution_count": 11,
     "metadata": {},
     "output_type": "execute_result"
    }
   ],
   "source": [
    "dataset = TUDataset('data', name='MUTAG')\n",
    "dataset = dataset.shuffle()\n",
    "n = (len(dataset) + 9) // 10\n",
    "test_dataset = dataset[:n]\n",
    "val_dataset = dataset[n:2 * n]\n",
    "train_dataset = dataset[2 * n:]\n",
    "data = train_dataset[0]\n",
    "data"
   ]
  },
  {
   "cell_type": "code",
   "execution_count": 12,
   "metadata": {},
   "outputs": [],
   "source": [
    "# Test whether the message can flow (gradient can be updated automatically)\n",
    "class dispooling_GCN(torch.nn.Module):\n",
    "    def __init__(self, in_channels, hidden_channels, out_channels):\n",
    "        super().__init__()\n",
    "        torch.manual_seed(1234)\n",
    "        self.conv1 = GCNConv(in_channels, hidden_channels)\n",
    "        self.pool1 = pooling(hidden_channels, score_method=2, p1=0.2, p2=0.95, aggregate_score_method='avg')\n",
    "        # self.poo1 = EdgePooling(hidden_channels)\n",
    "        self.conv2 = GCNConv(hidden_channels, hidden_channels)\n",
    "        self.conv3 = GCNConv(hidden_channels, hidden_channels)\n",
    "        self.lin = torch.nn.Linear(hidden_channels, out_channels)\n",
    "\n",
    "    def forward(self, x, edge_index):\n",
    "        h = self.conv1(x, edge_index).relu()\n",
    "        edge_index, _, h, _, _ = self.pool1(edge_index, h)\n",
    "        # h, edge_index, _, _ = self.pool1(x, edge_index, batch=None)\n",
    "        h = self.conv2(h, edge_index).relu()\n",
    "        h = self.conv3(h, edge_index).relu()\n",
    "        h = self.lin(h).relu()\n",
    "        h = global_mean_pool(h, batch=None)\n",
    "        return F.log_softmax(h, dim=-1)"
   ]
  },
  {
   "cell_type": "code",
   "execution_count": 22,
   "metadata": {},
   "outputs": [
    {
     "name": "stdout",
     "output_type": "stream",
     "text": [
      "Epoch: 001, Train Loss: 0.3918, Val Acc: 0.5789, Test Acc: 0.3684\n",
      "Epoch: 011, Train Loss: 0.6931, Val Acc: 0.7368, Test Acc: 0.7368\n",
      "Epoch: 021, Train Loss: 0.6931, Val Acc: 0.7895, Test Acc: 0.7368\n",
      "Epoch: 031, Train Loss: 0.6931, Val Acc: 0.6842, Test Acc: 0.7368\n",
      "Epoch: 041, Train Loss: 0.6931, Val Acc: 0.8421, Test Acc: 0.7895\n",
      "Epoch: 051, Train Loss: 0.6931, Val Acc: 0.7895, Test Acc: 0.7895\n",
      "Epoch: 061, Train Loss: 0.6931, Val Acc: 0.7895, Test Acc: 0.7895\n",
      "Epoch: 071, Train Loss: 0.6931, Val Acc: 0.7895, Test Acc: 0.7895\n",
      "Epoch: 081, Train Loss: 0.6931, Val Acc: 0.7895, Test Acc: 0.7895\n",
      "Epoch: 091, Train Loss: 0.6931, Val Acc: 0.7895, Test Acc: 0.7895\n",
      "Epoch: 101, Train Loss: 0.6931, Val Acc: 0.7895, Test Acc: 0.7895\n",
      "Epoch: 111, Train Loss: 0.6931, Val Acc: 0.6842, Test Acc: 0.7895\n",
      "Epoch: 121, Train Loss: 0.6931, Val Acc: 0.7895, Test Acc: 0.7895\n",
      "Epoch: 131, Train Loss: 0.6931, Val Acc: 0.6316, Test Acc: 0.7895\n",
      "Epoch: 141, Train Loss: 0.6931, Val Acc: 0.7895, Test Acc: 0.7895\n",
      "Epoch: 151, Train Loss: 0.6931, Val Acc: 0.6316, Test Acc: 0.7895\n",
      "Epoch: 161, Train Loss: 0.6931, Val Acc: 0.7895, Test Acc: 0.7895\n"
     ]
    }
   ],
   "source": [
    "model = dispooling_GCN(in_channels=dataset.num_node_features, hidden_channels=20, out_channels=dataset.num_classes)\n",
    "model.forward(data.x, data.edge_index)\n",
    "optimizer = torch.optim.Adam(model.parameters(), lr=5e-3)\n",
    "criterion = torch.nn.CrossEntropyLoss()\n",
    "\n",
    "def train():\n",
    "    model.train()\n",
    "    for data in train_dataset:\n",
    "        optimizer.zero_grad() \n",
    "        out = model(data.x, data.edge_index)\n",
    "        loss = criterion(out, data.y)\n",
    "        loss.backward()\n",
    "        optimizer.step()\n",
    "    return(loss)\n",
    "\n",
    "\n",
    "def test():\n",
    "    model.eval()\n",
    "    correct = 0\n",
    "    for data in test_dataset:\n",
    "        pred = model(data.x, data.edge_index).argmax(dim=1)\n",
    "        correct += int((pred == data.y).sum())\n",
    "    return correct / len(test_dataset)\n",
    "\n",
    "\n",
    "def val():\n",
    "    model.eval()\n",
    "    correct = 0\n",
    "    for data in val_dataset:\n",
    "        pred = model(data.x, data.edge_index).argmax(dim=1)\n",
    "        correct += int((pred == data.y).sum())\n",
    "    return correct / len(test_dataset)\n",
    "\n",
    "\n",
    "\n",
    "best_val_acc = 0\n",
    "for epoch in range(1, 171):\n",
    "    train_loss = train()\n",
    "    val_acc = val()\n",
    "    if val_acc > best_val_acc:\n",
    "        test_acc = test()\n",
    "        best_val_acc = val_acc\n",
    "    if epoch % 10 == 1:\n",
    "        print(f'Epoch: {epoch:03d}, Train Loss: {train_loss:.4f}, '\n",
    "            f'Val Acc: {val_acc:.4f}, Test Acc: {test_acc:.4f}')"
   ]
  }
 ],
 "metadata": {
  "interpreter": {
   "hash": "070abceb24e738bbd6634274827241c1c175321cca14cfcc03bf4e6ff7b889ca"
  },
  "kernelspec": {
   "display_name": "Python 3.9.7 ('base')",
   "language": "python",
   "name": "python3"
  },
  "language_info": {
   "codemirror_mode": {
    "name": "ipython",
    "version": 3
   },
   "file_extension": ".py",
   "mimetype": "text/x-python",
   "name": "python",
   "nbconvert_exporter": "python",
   "pygments_lexer": "ipython3",
   "version": "3.9.7"
  },
  "orig_nbformat": 4
 },
 "nbformat": 4,
 "nbformat_minor": 2
}
